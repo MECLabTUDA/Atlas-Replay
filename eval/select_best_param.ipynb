{
 "cells": [
  {
   "cell_type": "markdown",
   "id": "969c0450-e746-4376-83da-40b16651df95",
   "metadata": {},
   "source": [
    "### select best parameter setup\n",
    "Use this notebook to select the best parameter setup from a list of settings based on Dice performance as well as BWT and FWT."
   ]
  },
  {
   "cell_type": "markdown",
   "id": "fe639304-b623-49ab-9ecd-084df4933e5c",
   "metadata": {},
   "source": [
    "#### Set paths"
   ]
  },
  {
   "cell_type": "code",
   "execution_count": 1,
   "id": "6b014ede-6267-4cd9-bd0b-2f2d5cf7d4a2",
   "metadata": {},
   "outputs": [],
   "source": [
    "rwalk_exps = [\n",
    "              '/home/aranem_locale/Desktop/mnts/local/scratch/aranem/MICCAI_2023/MICCAI_2023_predictions/RWalk/UNet_VxM_rwalk_0-4_0-9',\n",
    "              '/home/aranem_locale/Desktop/mnts/local/scratch/aranem/MICCAI_2023/MICCAI_2023_predictions/RWalk/UNet_VxM_rwalk_1-1_0-9',\n",
    "              '/home/aranem_locale/Desktop/mnts/local/scratch/aranem/MICCAI_2023/MICCAI_2023_predictions/RWalk/UNet_VxM_rwalk_1-7_0-9',\n",
    "              '/home/aranem_locale/Desktop/mnts/local/scratch/aranem/MICCAI_2023/MICCAI_2023_predictions/RWalk/UNet_VxM_rwalk_2-2_0-9'\n",
    "             ]\n",
    "\n",
    "ewc_exps = [\n",
    "            '/home/aranem_locale/Desktop/mnts/local/scratch/aranem/MICCAI_2023/MICCAI_2023_predictions/EWC/UNet_VxM_ewc_0-4',\n",
    "            '/home/aranem_locale/Desktop/mnts/local/scratch/aranem/MICCAI_2023/MICCAI_2023_predictions/EWC/UNet_VxM_ewc_1-1',\n",
    "            '/home/aranem_locale/Desktop/mnts/local/scratch/aranem/MICCAI_2023/MICCAI_2023_predictions/EWC/UNet_VxM_ewc_1-7',\n",
    "            '/home/aranem_locale/Desktop/mnts/local/scratch/aranem/MICCAI_2023/MICCAI_2023_predictions/EWC/UNet_VxM_ewc_2-2'\n",
    "           ]"
   ]
  },
  {
   "cell_type": "markdown",
   "id": "22a97683-dfd5-4e31-a7aa-138db777bce8",
   "metadata": {},
   "source": [
    "#### Import necessary libraries"
   ]
  },
  {
   "cell_type": "code",
   "execution_count": 2,
   "id": "8b4bdc62-b48e-457e-bf20-b164ce2f2b32",
   "metadata": {},
   "outputs": [
    {
     "name": "stderr",
     "output_type": "stream",
     "text": [
      "/home/aranem_locale/anaconda3/envs/Lifelong-nnUNet/lib/python3.9/site-packages/tqdm/auto.py:22: TqdmWarning: IProgress not found. Please update jupyter and ipywidgets. See https://ipywidgets.readthedocs.io/en/stable/user_install.html\n",
      "  from .autonotebook import tqdm as notebook_tqdm\n"
     ]
    }
   ],
   "source": [
    "from math import pi\n",
    "import numpy as np\n",
    "import pandas as pd\n",
    "import seaborn as sns\n",
    "from time import sleep\n",
    "import os, pystrum, copy\n",
    "import SimpleITK as sitk\n",
    "from tqdm.notebook import trange, tqdm\n",
    "import matplotlib.pyplot as plt\n",
    "from torch.autograd import Variable\n",
    "\n",
    "os.environ['NEURITE_BACKEND'] = \"pytorch\"\n",
    "import neurite as ne"
   ]
  },
  {
   "cell_type": "markdown",
   "id": "b6da2ec9-dde0-4576-a78d-c24375d75435",
   "metadata": {},
   "source": [
    "#### Helpful functions and other stuffs"
   ]
  },
  {
   "cell_type": "code",
   "execution_count": 3,
   "id": "d8cbe121-7819-4a0e-8a7c-e35ef4a7c275",
   "metadata": {},
   "outputs": [],
   "source": [
    "def mean_dice_coef(y_true, y_pred_bin, num_classes=1, do_torch=False):\n",
    "    # from: https://www.codegrepper.com/code-examples/python/dice+similarity+coefficient+python\n",
    "    # shape of y_true and y_pred_bin: (n_samples, height, width, n_channels)\n",
    "    batch_size = y_true.shape[0]\n",
    "    depth = y_true.shape[-1]\n",
    "    # channel_num = y_true.shape[-1]\n",
    "    mean_dice_channel = 0.\n",
    "    # dict contains label: dice per batch\n",
    "    channel_dices_per_batch = {i+1:list() for i in range(num_classes)}\n",
    "    for i in range(batch_size):\n",
    "        # for n in range(depth):\n",
    "        for j in range(1, num_classes+1):\n",
    "            y_t = y_true[i, ...].clone() if do_torch else copy.deepcopy(y_true[i, ...])\n",
    "            y_p = y_pred_bin[i, ...].clone() if do_torch else copy.deepcopy(y_pred_bin[i, ...])\n",
    "            y_t[y_t != j] = 0\n",
    "            y_t[y_t == j] = 1\n",
    "            y_p[y_p != j] = 0\n",
    "            y_p[y_p == j] = 1\n",
    "            channel_dice = single_dice_coef(y_t, y_p, do_torch)\n",
    "            channel_dices_per_batch[j].append(channel_dice)\n",
    "            # channel_dice = single_dice_coef(y_true[i, :, :, j], y_pred_bin[i, :, :, j], num_classes, do_torch)\n",
    "            mean_dice_channel += channel_dice/(num_classes*batch_size)\n",
    "    return mean_dice_channel, channel_dices_per_batch\n",
    "\n",
    "def single_dice_coef(y_true, y_pred_bin, do_torch=False):\n",
    "    # shape of y_true and y_pred_bin: (height, width)\n",
    "    intersection = np.sum(y_true * y_pred_bin) if not do_torch else torch.sum(y_true * y_pred_bin)\n",
    "    if do_torch:\n",
    "        if (torch.sum(y_true)==0) and (torch.sum(y_pred_bin)==0):\n",
    "            return 1\n",
    "        return ((2*intersection) / (torch.sum(y_true) + torch.sum(y_pred_bin))).item()\n",
    "    else:\n",
    "        if (np.sum(y_true)==0) and (np.sum(y_pred_bin)==0):\n",
    "            return 1\n",
    "        return (2*intersection) / (np.sum(y_true) + np.sum(y_pred_bin))\n",
    "\n",
    "def trunc(values, decs=0):\n",
    "    return np.trunc(values*10**decs)/(10**decs)\n",
    "    \n",
    "val_keys = {'Task110_RUNMC': ['Case03', 'Case08', 'Case12', 'Case15', 'Case18', 'Case26'],\n",
    "            'Task111_BMC': ['Case03', 'Case08', 'Case12', 'Case15', 'Case18', 'Case26'],\n",
    "            'Task112_I2CVB': ['Case03', 'Case08', 'Case13', 'Case15'],\n",
    "            'Task113_UCL': ['Case01', 'Case32', 'Case34'],\n",
    "            'Task114_BIDMC': ['Case00', 'Case04', 'Case09'],\n",
    "            'Task115_HK': ['Case38', 'Case41', 'Case46'],\n",
    "            'Task116_DecathProst': ['prostate_00', 'prostate_04', 'prostate_14', 'prostate_20', 'prostate_25', 'prostate_31', 'prostate_42']}"
   ]
  },
  {
   "cell_type": "markdown",
   "id": "256dd19b-89ee-49f2-a4d5-793eec1ac67e",
   "metadata": {
    "tags": []
   },
   "source": [
    "### EWC results"
   ]
  },
  {
   "cell_type": "code",
   "execution_count": 4,
   "id": "ae5e744e-1c0e-4d2b-b5b9-c7bd61daf093",
   "metadata": {
    "tags": []
   },
   "outputs": [],
   "source": [
    "# EWC\n",
    "i = 0\n",
    "dices_e_all = dict()\n",
    "for path in ewc_exps:\n",
    "    models = [x for x in os.listdir(path) if 'unet' in x and 'joint' not in x]\n",
    "    models.sort()\n",
    "    dices_e = dict()\n",
    "    for model in models:\n",
    "        dices_e[model[:-7].replace('unet_torch_250_', '')] = dict()\n",
    "        preds = os.path.join(path, model, 'predictions')\n",
    "        # print(f'Dice for model {model}:')\n",
    "        # -- Load the data -- #\n",
    "        ds = [x for x in os.listdir(preds)]\n",
    "        ds.sort()\n",
    "        for datas in ds:\n",
    "            dices_ = list()\n",
    "            dices_e[model[:-7].replace('unet_torch_250_', '')][datas.split('_')[0].replace('Task', '')] = dict()\n",
    "            cases = val_keys[datas]\n",
    "            for case in cases:\n",
    "                dices_e[model[:-7].replace('unet_torch_250_', '')][datas.split('_')[0].replace('Task', '')][case] = dict()\n",
    "                gt = sitk.GetArrayFromImage(sitk.ReadImage(os.path.join(preds, datas, case, 'seg_gt.nii.gz')))\n",
    "                y_p = sitk.GetArrayFromImage(sitk.ReadImage(os.path.join(preds, datas, case, 'pred_seg.nii.gz')))\n",
    "                _, channel_dices_per_batch = mean_dice_coef(gt, y_p, 1, False)\n",
    "                dice = [np.mean(v) for _, v in channel_dices_per_batch.items()] # Dice between moved and fixed segmentation\n",
    "                dices_e[model[:-7].replace('unet_torch_250_', '')][datas.split('_')[0].replace('Task', '')][case]['moved'] = np.round(dice, 4)\n",
    "                dices_.append(dice)\n",
    "\n",
    "            # print(f\"{datas}: Mean dice +/- std: {trunc(np.round(np.mean(dices_), decimals=4)*100, 2)} % +/- {trunc(np.round(np.std(dices_), decimals=4)*100, 2)} %.\") \n",
    "\n",
    "            dices_e[model[:-7].replace('unet_torch_250_', '')][datas.split('_')[0].replace('Task', '')]['mean_dice_moved'] = np.mean(dices_)\n",
    "            dices_e[model[:-7].replace('unet_torch_250_', '')][datas.split('_')[0].replace('Task', '')]['mean_std_moved'] = np.std(dices_)\n",
    "            dices_e[model[:-7].replace('unet_torch_250_', '')][datas.split('_')[0].replace('Task', '')]['mean_dice_std_moved'] = str(np.round(np.mean(dices_), 4)) + '+/-' + str(np.round(np.std(dices_), 4))\n",
    "        # print()\n",
    "    \n",
    "    dices_e_all[i] = dices_e\n",
    "    i += 1"
   ]
  },
  {
   "cell_type": "markdown",
   "id": "36db92bc-71b6-471f-979d-261abf012be6",
   "metadata": {
    "tags": []
   },
   "source": [
    "### RWalk results"
   ]
  },
  {
   "cell_type": "code",
   "execution_count": 5,
   "id": "cd9afacd-7442-4a23-9961-9402e57c14e4",
   "metadata": {},
   "outputs": [],
   "source": [
    "# RWalk\n",
    "i = 0\n",
    "dices_r_all = dict()\n",
    "for path in rwalk_exps:\n",
    "    models = [x for x in os.listdir(path) if 'unet' in x and 'joint' not in x]\n",
    "    models.sort()\n",
    "    dices_r = dict()\n",
    "    for model in models:\n",
    "        dices_r[model[:-9].replace('unet_torch_250_', '')] = dict()\n",
    "        preds = os.path.join(path, model, 'predictions')\n",
    "        # print(f'Dice for model {model}:')\n",
    "        # -- Load the data -- #\n",
    "        ds = [x for x in os.listdir(preds)]\n",
    "        ds.sort()\n",
    "        for datas in ds:\n",
    "            dices_ = list()\n",
    "            dices_r[model[:-9].replace('unet_torch_250_', '')][datas.split('_')[0].replace('Task', '')] = dict()\n",
    "            cases = val_keys[datas]\n",
    "            for case in cases:\n",
    "                dices_r[model[:-9].replace('unet_torch_250_', '')][datas.split('_')[0].replace('Task', '')][case] = dict()\n",
    "                gt = sitk.GetArrayFromImage(sitk.ReadImage(os.path.join(preds, datas, case, 'seg_gt.nii.gz')))\n",
    "                y_p = sitk.GetArrayFromImage(sitk.ReadImage(os.path.join(preds, datas, case, 'pred_seg.nii.gz')))\n",
    "                _, channel_dices_per_batch = mean_dice_coef(gt, y_p, 1, False)\n",
    "                dice = [np.mean(v) for _, v in channel_dices_per_batch.items()] # Dice between moved and fixed segmentation\n",
    "                dices_r[model[:-9].replace('unet_torch_250_', '')][datas.split('_')[0].replace('Task', '')][case]['moved'] = np.round(dice, 4)\n",
    "                dices_.append(dice)\n",
    "\n",
    "            # print(f\"{datas}: Mean dice +/- std: {trunc(np.round(np.mean(dices_), decimals=4)*100, 2)} % +/- {trunc(np.round(np.std(dices_), decimals=4)*100, 2)} %.\") \n",
    "\n",
    "            dices_r[model[:-9].replace('unet_torch_250_', '')][datas.split('_')[0].replace('Task', '')]['mean_dice_moved'] = np.mean(dices_)\n",
    "            dices_r[model[:-9].replace('unet_torch_250_', '')][datas.split('_')[0].replace('Task', '')]['mean_std_moved'] = np.std(dices_)\n",
    "            dices_r[model[:-9].replace('unet_torch_250_', '')][datas.split('_')[0].replace('Task', '')]['mean_dice_std_moved'] = str(np.round(np.mean(dices_), 4)) + '+/-' + str(np.round(np.std(dices_), 4))\n",
    "        # print()\n",
    "        \n",
    "    dices_r_all[i] = dices_r\n",
    "    i += 1"
   ]
  },
  {
   "cell_type": "code",
   "execution_count": 6,
   "id": "13440b0c-6755-439b-b8bd-18d092bc8995",
   "metadata": {},
   "outputs": [],
   "source": [
    "data = dices_e_all # dices_r_all"
   ]
  },
  {
   "cell_type": "markdown",
   "id": "f3605019-b87b-4d68-a196-408143f0ca81",
   "metadata": {},
   "source": [
    "#### Forgetting, Positive Backward Transfer, Remembering and Forward Transfer"
   ]
  },
  {
   "cell_type": "code",
   "execution_count": 7,
   "id": "74c4c950-aa65-40a9-a5bd-63d638c4be56",
   "metadata": {},
   "outputs": [],
   "source": [
    "tasks = ['110', '111', '112', '113', '114', '115', '116']\n",
    "methods = [i for i in range(len(ewc_exps))]\n",
    "B_T, F_T, F_NEG, F_POS, B_TP, FOR, REM, Dice, Dice_F, Dice_L, STD = dict(), dict(), dict(), dict(), dict(), dict(), dict(), dict(), dict(), dict(), dict()\n",
    "\n",
    "all_t_j = '_'.join(tasks)\n",
    "for m in methods:\n",
    "    B_T[m], F_T[m], F_NEG[m], F_POS[m], B_TP[m], FOR[m], REM[m], Dice[m], Dice_F[m], Dice_L[m], STD[m] = dict(), dict(), dict(), dict(), dict(), dict(), dict(), dict(), dict(), dict(), dict()\n",
    "    t_list = list()\n",
    "    for t in tasks:\n",
    "        t_list.append(t)\n",
    "        try:\n",
    "            Dice_t_all = (data[m][all_t_j][t]['mean_dice_moved'],\n",
    "                          data[m][all_t_j][t]['mean_std_moved'])\n",
    "            \n",
    "            Dice_t = (data[m]['_'.join(t_list)][t]['mean_dice_moved'],\n",
    "                      data[m]['_'.join(t_list)][t]['mean_std_moved'])\n",
    "            \n",
    "            if len(t_list) > 1:\n",
    "                Dice_t_prev = (data[m]['_'.join(t_list[:-1])][t]['mean_dice_moved'],\n",
    "                               data[m]['_'.join(t_list[:-1])][t]['mean_std_moved'])\n",
    "                F_T[m][t] = Dice_t_prev[0] - data[m][t][t]['mean_dice_moved']\n",
    "                F_NEG[m][t] = abs(min(F_T[m][t], 0))\n",
    "                F_POS[m][t] = 1 - abs(min(F_T[m][t], 0))\n",
    "            \n",
    "            if '_'.join(t_list) == all_t_j: # Only add this once\n",
    "                Dice_F[m][t] = data[m][all_t_j][tasks[0]]['mean_dice_moved']\n",
    "                Dice_L[m][t] = data[m][all_t_j][tasks[-1]]['mean_dice_moved']\n",
    "            \n",
    "            Dice[m][t] = data[m][all_t_j][t]['mean_dice_moved']\n",
    "\n",
    "            if '_'.join(t_list) != all_t_j:\n",
    "                B_T[m][t] = Dice_t_all[0] - Dice_t[0]\n",
    "                B_TP[m][t] = max(B_T[m][t], 0)\n",
    "                FOR[m][t] = abs(min(B_T[m][t], 0))\n",
    "                REM[m][t] = 1 - abs(min(B_T[m][t], 0))\n",
    "        except:\n",
    "            pass"
   ]
  },
  {
   "cell_type": "markdown",
   "id": "ae98ecd8-76fa-481b-8d5a-af34de6bc2c6",
   "metadata": {},
   "source": [
    "#### Select best setting"
   ]
  },
  {
   "cell_type": "code",
   "execution_count": 8,
   "id": "5689fa93-4dd8-43d5-903b-eae84eac8759",
   "metadata": {},
   "outputs": [
    {
     "name": "stdout",
     "output_type": "stream",
     "text": [
      "Mean BWT, REM, FWT, Dice, Forgetting [%]\n",
      "-28.467163746309826 12.34699631455628\n",
      "71.53283625369018 12.346996314556279\n",
      "-28.87330350939934 19.482110998035072\n",
      "42.43886571857907 20.67217666252717\n",
      "28.467163746309826 12.34699631455628\n",
      "0: Mean over Dices, BWT and FWT: -14.901601537130091\n",
      "-29.275575257004533 14.815028007884608\n",
      "70.72442474299547 14.815028007884608\n",
      "-27.473033231369488 16.28978944820951\n",
      "44.82734995175964 20.855827905917298\n",
      "29.275575257004533 14.815028007884608\n",
      "1: Mean over Dices, BWT and FWT: -11.921258536614374\n",
      "-30.959548135947294 15.333171893247815\n",
      "69.0404518640527 15.333171893247815\n",
      "-30.593663096020325 16.66339244126253\n",
      "44.02862974661069 20.485931102830307\n",
      "30.959548135947294 15.333171893247815\n",
      "2: Mean over Dices, BWT and FWT: -17.524581485356933\n",
      "-27.47769966669711 14.996302357665229\n",
      "72.52230033330291 14.996302357665229\n",
      "-29.65065769253637 18.31779875409807\n",
      "46.05998528939446 18.45626251600051\n",
      "27.47769966669711 14.996302357665229\n",
      "3: Mean over Dices, BWT and FWT: -11.068372069839015\n",
      "The best parameters are from 3: /home/aranem_locale/Desktop/mnts/local/scratch/aranem/MICCAI_2023/MICCAI_2023_predictions/EWC/UNet_VxM_ewc_2-2.\n"
     ]
    }
   ],
   "source": [
    "# Calculate mean Dices, BWT and FWT\n",
    "print('Mean BWT, REM, FWT, Dice, Forgetting [%]')\n",
    "best_m = - np.inf\n",
    "best_setup = None\n",
    "for m in methods:\n",
    "    # print(m)\n",
    "    print(np.mean(list(B_T[m].values()))*100, np.std(list(B_T[m].values()))*100)\n",
    "    print(np.mean(list(REM[m].values()))*100, np.std(list(REM[m].values()))*100)\n",
    "    print(np.mean(list(F_T[m].values()))*100, np.std(list(F_T[m].values()))*100)\n",
    "    print(np.mean(list(Dice[m].values()))*100, np.std(list(Dice[m].values()))*100)\n",
    "    print(np.mean(list(FOR[m].values()))*100, np.std(list(FOR[m].values()))*100)\n",
    "    m_ = np.mean(list(B_T[m].values()))*100 + np.mean(list(F_T[m].values()))*100 + np.mean(list(Dice[m].values()))*100\n",
    "    print(f\"{m}: Mean over Dices, BWT and FWT: {m_}\")\n",
    "    if m_ > best_m:\n",
    "        best_m = m_\n",
    "        best_setup = m\n",
    "print(f\"The best parameters are from {best_setup}: {ewc_exps[best_setup]}.\")\n",
    "# print(f\"The best parameters are from {best_setup}: {rwalk_exps[best_setup]}.\")"
   ]
  }
 ],
 "metadata": {
  "kernelspec": {
   "display_name": "Python 3 (ipykernel)",
   "language": "python",
   "name": "python3"
  },
  "language_info": {
   "codemirror_mode": {
    "name": "ipython",
    "version": 3
   },
   "file_extension": ".py",
   "mimetype": "text/x-python",
   "name": "python",
   "nbconvert_exporter": "python",
   "pygments_lexer": "ipython3",
   "version": "3.9.12"
  }
 },
 "nbformat": 4,
 "nbformat_minor": 5
}
